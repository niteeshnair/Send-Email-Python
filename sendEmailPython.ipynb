{
  "nbformat": 4,
  "nbformat_minor": 0,
  "metadata": {
    "colab": {
      "name": "sendEmailPython.ipynb",
      "provenance": [],
      "authorship_tag": "ABX9TyMeOMrd/yl8KHZHCE6xgnux"
    },
    "kernelspec": {
      "name": "python3",
      "display_name": "Python 3"
    },
    "language_info": {
      "name": "python"
    }
  },
  "cells": [
    {
      "cell_type": "markdown",
      "source": [
        "# This code is intended to demonstrate how to send an email using python\n",
        "#Please have a look on the comments mentioned that describe possible changes and ehancements which can be done on this."
      ],
      "metadata": {
        "id": "rR8cZiVLjroS"
      }
    },
    {
      "cell_type": "code",
      "source": [
        "#Import modules\n",
        "import smtplib\n",
        "from email.mime.multipart import MIMEMultipart\n",
        "from email.mime.text import MIMEText"
      ],
      "metadata": {
        "id": "aHEyrCeSmBFr"
      },
      "execution_count": null,
      "outputs": []
    },
    {
      "cell_type": "code",
      "source": [
        "#Set Senders and receivers email address\n",
        "fromAddress = 'senders email'\n",
        "toAddress = ['List of receiver\\'s email']\n",
        "messageText = \"Write your plain text here\""
      ],
      "metadata": {
        "id": "v5bNhNIGmRdA"
      },
      "execution_count": null,
      "outputs": []
    },
    {
      "cell_type": "code",
      "source": [
        "#Set mail parameters\n",
        "mail = MIMEMultipart()\n",
        "mail['From'] = fromAddress\n",
        "mail['To'] = \", \".join(toAddress)\n",
        "mail['Subject'] = 'Write an appropriate Subject'\n",
        "mail.attach(MIMEText(messageText, 'plain'))"
      ],
      "metadata": {
        "id": "aJyMgGsbnWki"
      },
      "execution_count": null,
      "outputs": []
    },
    {
      "cell_type": "code",
      "source": [
        "#Set smtp parameters\n",
        "smtpServer='smtp.yourdomain.com'\n",
        "server = smtplib.SMTP(smtpServer,25)\n",
        "server.ehlo()\n",
        "server.starttls()\n",
        "server.sendmail(fromAddr, toAddr, mail.as_string()) \n",
        "server.quit()\n"
      ],
      "metadata": {
        "id": "oGMc7c6UnKbW"
      },
      "execution_count": null,
      "outputs": []
    },
    {
      "cell_type": "markdown",
      "source": [
        "Message written in this code is simple plain text. If you need to send an html then make appropriate body and replace 'plain' in mail.attach with 'html'.\n"
      ],
      "metadata": {
        "id": "ywE9pjbLsLHs"
      }
    },
    {
      "cell_type": "markdown",
      "source": [
        "For file attachments use below option:"
      ],
      "metadata": {
        "id": "RV2wle4stKm4"
      }
    },
    {
      "cell_type": "code",
      "source": [
        "'''\n",
        "from email.mime.application import MIMEApplication\n",
        "\n",
        "# replace filename to your attachments. Tested and works for png, jpeg, txt, pptx, csv\n",
        "filename = 'file.csv'\n",
        "with open(filename, 'rb') as fp:\n",
        "    attachment = MIMEApplication(fp.read())\n",
        "    attachment.add_header('Content-Disposition', 'attachment', filename=filename)\n",
        "    msg.attach(attachment)\n",
        "'''"
      ],
      "metadata": {
        "id": "MO0gON8UtRwd"
      },
      "execution_count": null,
      "outputs": []
    },
    {
      "cell_type": "markdown",
      "source": [
        "In case we need to use smtpserver of gmail or outlook"
      ],
      "metadata": {
        "id": "4ImFxWaUtb7f"
      }
    },
    {
      "cell_type": "code",
      "source": [
        "#smtpServer = 'smtp.gmail.com' or smtpServer = 'smtp-mail.outlook.com'\n",
        "#port needs to be changed to either 587 or 465\n",
        "# 587 for MSA(Message submission Agent) and 465 for TLS/SSL"
      ],
      "metadata": {
        "id": "ui2YXW5cuyr1"
      },
      "execution_count": null,
      "outputs": []
    },
    {
      "cell_type": "markdown",
      "source": [
        "In case of using gmail or outlook smtp server we need to login to our account. Type below snippet after smtplib.SMTP()"
      ],
      "metadata": {
        "id": "JOFNAxMNvl34"
      }
    },
    {
      "cell_type": "code",
      "source": [
        "#server.login(sender_email, password)"
      ],
      "metadata": {
        "id": "EAamNqVev3E2"
      },
      "execution_count": null,
      "outputs": []
    }
  ]
}